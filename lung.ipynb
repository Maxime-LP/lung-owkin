{
 "cells": [
  {
   "cell_type": "markdown",
   "metadata": {},
   "source": [
    "# Challenge Owkin\n",
    "\n",
    "N.B : une version plus détaillée et présentant plusieurs méthodes est disponible en annexe\n",
    "\n",
    "Le but de ce data challenge est de développer des méthodes de prédiction du temps de survie de patients souffrant du cancer des poumons. Nous avons mis en oeuvre différentes méthodes de machine learning adaptées à l'analyse de survie, ainsi que des méthodes plus élaborées de Deep Learning. Pour chaque patient, nous disposions de données cliniques ainsi que de données issues de la segmentation d'images provenant de radios de tumeurs cancéreuses\n",
    "\n",
    "S'agissant de données censurées propres à l'analyse de survie, il n'était pas envisageable d'utiliser des méthodes statistiques classiques, nous nous sommes donc dans un premier temps tournés vers des outils d'analyse de survie, implémentés dans des packages comme `scikit-survival` et `lifelines`. Dans un second temps, nous avons essayé d'appliquer des méthodes plus poussées de Deep Learning.\n",
    "\n",
    "Les premiers essais avec les machines à vecteurs support et les Random Survival Forests de `scikit-survival` n'ont pas été très concluants, mais le gradient boosting a donné quelques résultats assez encourageants. Nous avons pu atteindre un indice de concordance de 0.65 sur le jeu de données de test public, là où les précédentes méthodes n'ont pas dépassé 0.4.\n",
    "\n",
    "Les méthodes du packages `lifelines` ont rapidement montré des résultats très intéressants. Le \"penalized Cox's proportional hazard model\" et le  \"Weibull accelerated failure time model\" ont respectivement abouti à des erreurs sur le jeu de données de test public de 0.723 et 0.724 dans les meilleurs des cas.\n",
    "\n",
    "Pour terminer ce challenge, nous avons essayé d'appliquer des réseaux de neurones à ce problème. Encore une fois, il a fallu utiliser des méthodes adaptées à l'analyse de survie. Nous avons ainsi utilisé l'approche `DeepSurv`, qui est une adaptation du modèle de Cox aux réseaux de neurones, et qui est implémentée dans le packahe `pycox` (https://github.com/havakv/pycox). Dans un premier temps, cela s'est fait sur les données segmentées puis, dans un second temps, directement sur les images dont sont tirées ces données. Les résultats sont plutôt satisfaisant : 0.7 pour le modèle basé sur les données segmentés et 0.51 pour le second."
   ]
  }
 ],
 "metadata": {
  "interpreter": {
   "hash": "0f231062fdd0de4c51d8667824f8751e8aca471c606cea8b8b7096378fa68ad0"
  },
  "kernelspec": {
   "display_name": "Python 3.9.10 64-bit (windows store)",
   "language": "python",
   "name": "python3"
  },
  "language_info": {
   "name": "python",
   "version": "3.9.10"
  },
  "orig_nbformat": 4
 },
 "nbformat": 4,
 "nbformat_minor": 2
}
